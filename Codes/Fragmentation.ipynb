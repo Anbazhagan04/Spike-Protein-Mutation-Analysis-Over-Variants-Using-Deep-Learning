{
 "cells": [
  {
   "cell_type": "markdown",
   "id": "16ff084e",
   "metadata": {},
   "source": [
    "Fragmentation in Batches"
   ]
  },
  {
   "cell_type": "code",
   "execution_count": 1,
   "id": "443799f6",
   "metadata": {},
   "outputs": [],
   "source": [
    "import pandas as pd\n",
    "import numpy as np \n",
    "import matplotlib.pyplot as plt\n",
    "from tensorflow import keras"
   ]
  },
  {
   "cell_type": "code",
   "execution_count": null,
   "id": "0605a65c",
   "metadata": {},
   "outputs": [],
   "source": [
    "df=pd.read_csv(\"./Dataset/CovidVariantDataset.csv\")"
   ]
  },
  {
   "cell_type": "code",
   "execution_count": null,
   "id": "da3f3c59",
   "metadata": {},
   "outputs": [],
   "source": [
    "df"
   ]
  },
  {
   "cell_type": "code",
   "execution_count": null,
   "id": "e2dbb501",
   "metadata": {},
   "outputs": [],
   "source": [
    "ntseq=df[\"Sequence\"][:10000]"
   ]
  },
  {
   "cell_type": "code",
   "execution_count": null,
   "id": "b6f22696",
   "metadata": {},
   "outputs": [],
   "source": [
    "def Fragmentation(seq,k):\n",
    "    Frag=[]\n",
    "    for i in range(0,len(seq)-(len(seq)%k)):\n",
    "         Frag.append(seq[i:i+k])\n",
    "    return Frag"
   ]
  },
  {
   "cell_type": "code",
   "execution_count": null,
   "id": "2910efbf",
   "metadata": {},
   "outputs": [],
   "source": [
    "Frag_seq=[]\n",
    "k=5\n",
    "count=1\n",
    "for i in range(len(ntseq)):\n",
    "    Frag_seq.append(Fragmentation(ntseq[i],k))\n",
    "    print(count)\n",
    "    count+=1\n",
    "df[\"Sequence\"]=Frag_seq\n",
    "df"
   ]
  },
  {
   "cell_type": "code",
   "execution_count": null,
   "id": "4acd10ba",
   "metadata": {},
   "outputs": [],
   "source": [
    "df.to_csv(\"./drive/MyDrive/VariantBatch1.csv\")"
   ]
  }
 ],
 "metadata": {
  "kernelspec": {
   "display_name": "Python 3 (ipykernel)",
   "language": "python",
   "name": "python3"
  },
  "language_info": {
   "codemirror_mode": {
    "name": "ipython",
    "version": 3
   },
   "file_extension": ".py",
   "mimetype": "text/x-python",
   "name": "python",
   "nbconvert_exporter": "python",
   "pygments_lexer": "ipython3",
   "version": "3.9.7"
  }
 },
 "nbformat": 4,
 "nbformat_minor": 5
}
