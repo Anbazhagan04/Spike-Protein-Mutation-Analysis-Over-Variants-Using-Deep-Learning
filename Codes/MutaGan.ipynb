{
  "cells": [
    {
      "cell_type": "code",
      "execution_count": null,
      "metadata": {
        "id": "xUieLrfuzog1",
        "colab": {
          "base_uri": "https://localhost:8080/"
        },
        "outputId": "27b7f8e3-8c90-4fc1-915c-cd924e4bcf2d"
      },
      "outputs": [
        {
          "output_type": "stream",
          "name": "stdout",
          "text": [
            "Drive already mounted at /content/drive; to attempt to forcibly remount, call drive.mount(\"/content/drive\", force_remount=True).\n"
          ]
        }
      ],
      "source": [
        "from google.colab import drive\n",
        "drive.mount('/content/drive')"
      ]
    },
    {
      "cell_type": "code",
      "execution_count": null,
      "metadata": {
        "id": "u2QF6-24z80o"
      },
      "outputs": [],
      "source": [
        "import pandas as pd\n",
        "import numpy as np\n",
        "from tensorflow.keras.preprocessing.text import one_hot\n",
        "from tensorflow.keras.preprocessing.sequence import pad_sequences\n",
        "from tensorflow.keras import Model\n",
        "from tensorflow.keras.models import Sequential\n",
        "from tensorflow.keras.layers import Embedding,Bidirectional,LSTM,Dense,LeakyReLU,BatchNormalization,Dropout,Concatenate,Input\n",
        "from tensorflow.keras.optimizers import SGD, Adam\n",
        "from sklearn import preprocessing"
      ]
    },
    {
      "cell_type": "code",
      "execution_count": null,
      "metadata": {
        "id": "D3pfFcjt0AFV"
      },
      "outputs": [],
      "source": [
        "df = pd.read_csv(\"./drive/MyDrive/SpikeProteinFragmented.csv\")"
      ]
    },
    {
      "cell_type": "code",
      "execution_count": null,
      "metadata": {
        "id": "icItbeyP0QGz",
        "colab": {
          "base_uri": "https://localhost:8080/",
          "height": 423
        },
        "outputId": "e549bada-89f0-46e4-a7fd-a643800ba06c"
      },
      "outputs": [
        {
          "output_type": "execute_result",
          "data": {
            "text/plain": [
              "      Unnamed: 0                                                Seq      Var\n",
              "0              0  MFVFL FVFLV VFLVL FLVLL LVLLP VLLPL LLPLV LPLV...    alpha\n",
              "1              1  MFVFL FVFLV VFLVL FLVLL LVLLP VLLPL LLPLV LPLV...    alpha\n",
              "2              2  MFVFL FVFLV VFLVL FLVLL LVLLP VLLPL LLPLV LPLV...    alpha\n",
              "3              3  MFVFL FVFLV VFLVL FLVLL LVLLP VLLPL LLPLV LPLV...    alpha\n",
              "4              4  MFVFL FVFLV VFLVL FLVLL LVLLP VLLPL LLPLV LPLV...    alpha\n",
              "...          ...                                                ...      ...\n",
              "2232        2232  MFVFL FVFLV VFLVL FLVLL LVLLP VLLPL LLPLV LPLV...  omicron\n",
              "2233        2233  MFVFL FVFLV VFLVL FLVLL LVLLP VLLPL LLPLV LPLV...  omicron\n",
              "2234        2234  MFVFL FVFLV VFLVL FLVLL LVLLP VLLPL LLPLV LPLV...  omicron\n",
              "2235        2235  MFVFL FVFLV VFLVL FLVLL LVLLP VLLPL LLPLV LPLV...  omicron\n",
              "2236        2236  MFVFL FVFLV VFLVL FLVLL LVLLP VLLPL LLPLV LPLV...  omicron\n",
              "\n",
              "[2237 rows x 3 columns]"
            ],
            "text/html": [
              "\n",
              "  <div id=\"df-41f5424d-8e43-4675-ace4-f0323707717b\">\n",
              "    <div class=\"colab-df-container\">\n",
              "      <div>\n",
              "<style scoped>\n",
              "    .dataframe tbody tr th:only-of-type {\n",
              "        vertical-align: middle;\n",
              "    }\n",
              "\n",
              "    .dataframe tbody tr th {\n",
              "        vertical-align: top;\n",
              "    }\n",
              "\n",
              "    .dataframe thead th {\n",
              "        text-align: right;\n",
              "    }\n",
              "</style>\n",
              "<table border=\"1\" class=\"dataframe\">\n",
              "  <thead>\n",
              "    <tr style=\"text-align: right;\">\n",
              "      <th></th>\n",
              "      <th>Unnamed: 0</th>\n",
              "      <th>Seq</th>\n",
              "      <th>Var</th>\n",
              "    </tr>\n",
              "  </thead>\n",
              "  <tbody>\n",
              "    <tr>\n",
              "      <th>0</th>\n",
              "      <td>0</td>\n",
              "      <td>MFVFL FVFLV VFLVL FLVLL LVLLP VLLPL LLPLV LPLV...</td>\n",
              "      <td>alpha</td>\n",
              "    </tr>\n",
              "    <tr>\n",
              "      <th>1</th>\n",
              "      <td>1</td>\n",
              "      <td>MFVFL FVFLV VFLVL FLVLL LVLLP VLLPL LLPLV LPLV...</td>\n",
              "      <td>alpha</td>\n",
              "    </tr>\n",
              "    <tr>\n",
              "      <th>2</th>\n",
              "      <td>2</td>\n",
              "      <td>MFVFL FVFLV VFLVL FLVLL LVLLP VLLPL LLPLV LPLV...</td>\n",
              "      <td>alpha</td>\n",
              "    </tr>\n",
              "    <tr>\n",
              "      <th>3</th>\n",
              "      <td>3</td>\n",
              "      <td>MFVFL FVFLV VFLVL FLVLL LVLLP VLLPL LLPLV LPLV...</td>\n",
              "      <td>alpha</td>\n",
              "    </tr>\n",
              "    <tr>\n",
              "      <th>4</th>\n",
              "      <td>4</td>\n",
              "      <td>MFVFL FVFLV VFLVL FLVLL LVLLP VLLPL LLPLV LPLV...</td>\n",
              "      <td>alpha</td>\n",
              "    </tr>\n",
              "    <tr>\n",
              "      <th>...</th>\n",
              "      <td>...</td>\n",
              "      <td>...</td>\n",
              "      <td>...</td>\n",
              "    </tr>\n",
              "    <tr>\n",
              "      <th>2232</th>\n",
              "      <td>2232</td>\n",
              "      <td>MFVFL FVFLV VFLVL FLVLL LVLLP VLLPL LLPLV LPLV...</td>\n",
              "      <td>omicron</td>\n",
              "    </tr>\n",
              "    <tr>\n",
              "      <th>2233</th>\n",
              "      <td>2233</td>\n",
              "      <td>MFVFL FVFLV VFLVL FLVLL LVLLP VLLPL LLPLV LPLV...</td>\n",
              "      <td>omicron</td>\n",
              "    </tr>\n",
              "    <tr>\n",
              "      <th>2234</th>\n",
              "      <td>2234</td>\n",
              "      <td>MFVFL FVFLV VFLVL FLVLL LVLLP VLLPL LLPLV LPLV...</td>\n",
              "      <td>omicron</td>\n",
              "    </tr>\n",
              "    <tr>\n",
              "      <th>2235</th>\n",
              "      <td>2235</td>\n",
              "      <td>MFVFL FVFLV VFLVL FLVLL LVLLP VLLPL LLPLV LPLV...</td>\n",
              "      <td>omicron</td>\n",
              "    </tr>\n",
              "    <tr>\n",
              "      <th>2236</th>\n",
              "      <td>2236</td>\n",
              "      <td>MFVFL FVFLV VFLVL FLVLL LVLLP VLLPL LLPLV LPLV...</td>\n",
              "      <td>omicron</td>\n",
              "    </tr>\n",
              "  </tbody>\n",
              "</table>\n",
              "<p>2237 rows × 3 columns</p>\n",
              "</div>\n",
              "      <button class=\"colab-df-convert\" onclick=\"convertToInteractive('df-41f5424d-8e43-4675-ace4-f0323707717b')\"\n",
              "              title=\"Convert this dataframe to an interactive table.\"\n",
              "              style=\"display:none;\">\n",
              "        \n",
              "  <svg xmlns=\"http://www.w3.org/2000/svg\" height=\"24px\"viewBox=\"0 0 24 24\"\n",
              "       width=\"24px\">\n",
              "    <path d=\"M0 0h24v24H0V0z\" fill=\"none\"/>\n",
              "    <path d=\"M18.56 5.44l.94 2.06.94-2.06 2.06-.94-2.06-.94-.94-2.06-.94 2.06-2.06.94zm-11 1L8.5 8.5l.94-2.06 2.06-.94-2.06-.94L8.5 2.5l-.94 2.06-2.06.94zm10 10l.94 2.06.94-2.06 2.06-.94-2.06-.94-.94-2.06-.94 2.06-2.06.94z\"/><path d=\"M17.41 7.96l-1.37-1.37c-.4-.4-.92-.59-1.43-.59-.52 0-1.04.2-1.43.59L10.3 9.45l-7.72 7.72c-.78.78-.78 2.05 0 2.83L4 21.41c.39.39.9.59 1.41.59.51 0 1.02-.2 1.41-.59l7.78-7.78 2.81-2.81c.8-.78.8-2.07 0-2.86zM5.41 20L4 18.59l7.72-7.72 1.47 1.35L5.41 20z\"/>\n",
              "  </svg>\n",
              "      </button>\n",
              "      \n",
              "  <style>\n",
              "    .colab-df-container {\n",
              "      display:flex;\n",
              "      flex-wrap:wrap;\n",
              "      gap: 12px;\n",
              "    }\n",
              "\n",
              "    .colab-df-convert {\n",
              "      background-color: #E8F0FE;\n",
              "      border: none;\n",
              "      border-radius: 50%;\n",
              "      cursor: pointer;\n",
              "      display: none;\n",
              "      fill: #1967D2;\n",
              "      height: 32px;\n",
              "      padding: 0 0 0 0;\n",
              "      width: 32px;\n",
              "    }\n",
              "\n",
              "    .colab-df-convert:hover {\n",
              "      background-color: #E2EBFA;\n",
              "      box-shadow: 0px 1px 2px rgba(60, 64, 67, 0.3), 0px 1px 3px 1px rgba(60, 64, 67, 0.15);\n",
              "      fill: #174EA6;\n",
              "    }\n",
              "\n",
              "    [theme=dark] .colab-df-convert {\n",
              "      background-color: #3B4455;\n",
              "      fill: #D2E3FC;\n",
              "    }\n",
              "\n",
              "    [theme=dark] .colab-df-convert:hover {\n",
              "      background-color: #434B5C;\n",
              "      box-shadow: 0px 1px 3px 1px rgba(0, 0, 0, 0.15);\n",
              "      filter: drop-shadow(0px 1px 2px rgba(0, 0, 0, 0.3));\n",
              "      fill: #FFFFFF;\n",
              "    }\n",
              "  </style>\n",
              "\n",
              "      <script>\n",
              "        const buttonEl =\n",
              "          document.querySelector('#df-41f5424d-8e43-4675-ace4-f0323707717b button.colab-df-convert');\n",
              "        buttonEl.style.display =\n",
              "          google.colab.kernel.accessAllowed ? 'block' : 'none';\n",
              "\n",
              "        async function convertToInteractive(key) {\n",
              "          const element = document.querySelector('#df-41f5424d-8e43-4675-ace4-f0323707717b');\n",
              "          const dataTable =\n",
              "            await google.colab.kernel.invokeFunction('convertToInteractive',\n",
              "                                                     [key], {});\n",
              "          if (!dataTable) return;\n",
              "\n",
              "          const docLinkHtml = 'Like what you see? Visit the ' +\n",
              "            '<a target=\"_blank\" href=https://colab.research.google.com/notebooks/data_table.ipynb>data table notebook</a>'\n",
              "            + ' to learn more about interactive tables.';\n",
              "          element.innerHTML = '';\n",
              "          dataTable['output_type'] = 'display_data';\n",
              "          await google.colab.output.renderOutput(dataTable, element);\n",
              "          const docLink = document.createElement('div');\n",
              "          docLink.innerHTML = docLinkHtml;\n",
              "          element.appendChild(docLink);\n",
              "        }\n",
              "      </script>\n",
              "    </div>\n",
              "  </div>\n",
              "  "
            ]
          },
          "metadata": {},
          "execution_count": 4
        }
      ],
      "source": [
        "df"
      ]
    },
    {
      "cell_type": "code",
      "execution_count": null,
      "metadata": {
        "id": "voYe6QsU0SJt"
      },
      "outputs": [],
      "source": [
        "x=df[\"Seq\"]\n",
        "x_encoded = [one_hot(d,1276) for d in x]"
      ]
    },
    {
      "cell_type": "code",
      "source": [
        "max_length = len(max(x_encoded,key=len))+1\n",
        "max_length "
      ],
      "metadata": {
        "id": "Dd8uUM25OUH9",
        "colab": {
          "base_uri": "https://localhost:8080/"
        },
        "outputId": "9281b46c-3c6a-4dae-90ec-436de9af2cb1"
      },
      "execution_count": null,
      "outputs": [
        {
          "output_type": "execute_result",
          "data": {
            "text/plain": [
              "1276"
            ]
          },
          "metadata": {},
          "execution_count": 6
        }
      ]
    },
    {
      "cell_type": "code",
      "source": [
        "x_padded = pad_sequences(x_encoded, maxlen=max_length, padding='post')\n",
        "print(x_padded)"
      ],
      "metadata": {
        "id": "ezcAuFNYNo4l",
        "colab": {
          "base_uri": "https://localhost:8080/"
        },
        "outputId": "6146039e-352c-4960-cf78-093806413d70"
      },
      "execution_count": null,
      "outputs": [
        {
          "output_type": "stream",
          "name": "stdout",
          "text": [
            "[[1052  972  348 ...    0    0    0]\n",
            " [1052  972  348 ...    0    0    0]\n",
            " [1052  972  348 ...    0    0    0]\n",
            " ...\n",
            " [1052  972  348 ...    0    0    0]\n",
            " [1052  972  348 ...    0    0    0]\n",
            " [1052  972  348 ...    0    0    0]]\n"
          ]
        }
      ]
    },
    {
      "cell_type": "code",
      "source": [
        "le = preprocessing.LabelEncoder()\n",
        "y=df[\"Var\"].values\n",
        "y_labeled=le.fit_transform(y)\n",
        "y_labeled"
      ],
      "metadata": {
        "id": "ukLp_HDFOc7e",
        "colab": {
          "base_uri": "https://localhost:8080/"
        },
        "outputId": "19ea9922-e166-405a-d66f-d50c1167907e"
      },
      "execution_count": null,
      "outputs": [
        {
          "output_type": "execute_result",
          "data": {
            "text/plain": [
              "array([ 0,  0,  0, ..., 10, 10, 10])"
            ]
          },
          "metadata": {},
          "execution_count": 8
        }
      ]
    },
    {
      "cell_type": "code",
      "source": [
        "from sklearn.preprocessing import StandardScaler\n",
        "# load data \n",
        "# create scaler\n",
        "scaler = StandardScaler()\n",
        "# fit and transform in one step\n",
        "x_scaled = scaler.fit_transform(x_padded)\n",
        "x_scaled"
      ],
      "metadata": {
        "id": "7l7sP7gqDShm",
        "colab": {
          "base_uri": "https://localhost:8080/"
        },
        "outputId": "d0ef601a-8562-4a90-cbfa-9b155af10ead"
      },
      "execution_count": null,
      "outputs": [
        {
          "output_type": "execute_result",
          "data": {
            "text/plain": [
              "array([[ 0.13665525,  0.36077412, -0.38465538, ..., -0.02991412,\n",
              "        -0.02991412,  0.        ],\n",
              "       [ 0.13665525,  0.36077412, -0.38465538, ..., -0.02991412,\n",
              "        -0.02991412,  0.        ],\n",
              "       [ 0.13665525,  0.36077412, -0.38465538, ..., -0.02991412,\n",
              "        -0.02991412,  0.        ],\n",
              "       ...,\n",
              "       [ 0.13665525,  0.36077412, -0.38465538, ..., -0.02991412,\n",
              "        -0.02991412,  0.        ],\n",
              "       [ 0.13665525,  0.36077412, -0.38465538, ..., -0.02991412,\n",
              "        -0.02991412,  0.        ],\n",
              "       [ 0.13665525,  0.36077412, -0.38465538, ..., -0.02991412,\n",
              "        -0.02991412,  0.        ]])"
            ]
          },
          "metadata": {},
          "execution_count": 9
        }
      ]
    },
    {
      "cell_type": "code",
      "source": [
        "import numpy as np\n",
        "from sklearn.model_selection import train_test_split"
      ],
      "metadata": {
        "id": "lrsY5wEOFhYX"
      },
      "execution_count": null,
      "outputs": []
    },
    {
      "cell_type": "code",
      "source": [
        "x_train, x_test, y_train, y_test  =  train_test_split(x_scaled, y_labeled,test_size=0.2, random_state=4)\n",
        "len(x_train)"
      ],
      "metadata": {
        "id": "tosNkkb3FygN",
        "colab": {
          "base_uri": "https://localhost:8080/"
        },
        "outputId": "dfd858a5-26be-4f6e-daa0-1a705989e483"
      },
      "execution_count": null,
      "outputs": [
        {
          "output_type": "execute_result",
          "data": {
            "text/plain": [
              "1789"
            ]
          },
          "metadata": {},
          "execution_count": 11
        }
      ]
    },
    {
      "cell_type": "code",
      "source": [
        "x_train.shape"
      ],
      "metadata": {
        "id": "usGv8pqeGMNx",
        "colab": {
          "base_uri": "https://localhost:8080/"
        },
        "outputId": "4ee9db9e-2abd-47da-eccb-f4201f876ec4"
      },
      "execution_count": null,
      "outputs": [
        {
          "output_type": "execute_result",
          "data": {
            "text/plain": [
              "(1789, 1276)"
            ]
          },
          "metadata": {},
          "execution_count": 12
        }
      ]
    },
    {
      "cell_type": "code",
      "source": [
        "lat=1000"
      ],
      "metadata": {
        "id": "KEJDLxVrT74b"
      },
      "execution_count": null,
      "outputs": []
    },
    {
      "cell_type": "code",
      "source": [
        "#Parent Sequence Encoder\n",
        "par_inputs = Input(shape=(None,))\n",
        "enc_embedding = Embedding(lat,500)\n",
        "par_inputs_emb=enc_embedding(par_inputs)\n",
        "\n",
        "enc_BiLSTM = Bidirectional(LSTM(500,return_state=True))\n",
        "enc_outputs, fwd_hPar, fwd_cPar, bwd_hPar, bwd_cPar = enc_BiLSTM(par_inputs_emb)\n",
        "state_hPar = Concatenate()([fwd_hPar, bwd_hPar])\n",
        "state_cPar= Concatenate()([fwd_cPar, bwd_cPar])\n",
        "encoder_statePar = [state_hPar, state_cPar]\n",
        "ParentEncoder_model = Model([par_inputs], encoder_statePar) "
      ],
      "metadata": {
        "id": "Baq_0iS7PQOL"
      },
      "execution_count": null,
      "outputs": []
    },
    {
      "cell_type": "code",
      "source": [
        "#Generated Sequence Encoder\n",
        "gen_inputs = Input(shape = (None,lat))\n",
        "enc_inputsGen = Dense(500, activation = 'linear', use_bias = False)(gen_inputs)\n",
        "enc_outputsGen, fwd_hGen, fwd_cGen, bwd_hGen, bwd_cGen = enc_BiLSTM(enc_inputsGen)\n",
        "state_hGen = Concatenate()([fwd_hGen, bwd_hGen])\n",
        "state_cGen = Concatenate()([fwd_cGen, bwd_cGen])\n",
        "encoder_stateGen = [state_hGen, state_cGen]\n",
        "GenEncoder_model = Model([gen_inputs], encoder_stateGen) \n",
        "GenEncoder_model"
      ],
      "metadata": {
        "id": "Zel3a97TQuTr",
        "colab": {
          "base_uri": "https://localhost:8080/"
        },
        "outputId": "900eeffe-db79-4570-da16-41f0a752c48f"
      },
      "execution_count": null,
      "outputs": [
        {
          "output_type": "execute_result",
          "data": {
            "text/plain": [
              "<keras.engine.functional.Functional at 0x7f799eb0fcd0>"
            ]
          },
          "metadata": {},
          "execution_count": 15
        }
      ]
    },
    {
      "cell_type": "code",
      "source": [
        "z = Input(shape = (None,lat))\n",
        "z"
      ],
      "metadata": {
        "id": "xDpzLjgsGX7n",
        "colab": {
          "base_uri": "https://localhost:8080/"
        },
        "outputId": "101cf05c-3f39-44e3-9aa9-d9e41db806f8"
      },
      "execution_count": null,
      "outputs": [
        {
          "output_type": "execute_result",
          "data": {
            "text/plain": [
              "<KerasTensor: shape=(None, None, 1000) dtype=float32 (created by layer 'input_3')>"
            ]
          },
          "metadata": {},
          "execution_count": 16
        }
      ]
    },
    {
      "cell_type": "code",
      "source": [
        "xPar = ParentEncoder_model([par_inputs])\n",
        "xGen = GenEncoder_model ([gen_inputs])\n",
        "xConcat = Concatenate()(xPar+xGen)\n",
        "x = Dropout(0.2)(xConcat)\n",
        "x = BatchNormalization()(x)\n",
        "x = Dense(128)(x)\n",
        "x = LeakyReLU(0.1)(x)\n",
        "x = Dropout(0.2)(x)\n",
        "x = BatchNormalization()(x)\n",
        "x = Dense(64)(x)\n",
        "x = LeakyReLU(0.1)(x)\n",
        "x = Dropout(0.2)(x)\n",
        "x = BatchNormalization()(x)\n",
        "output_class = Dense(1, activation = 'tanh')(x)\n",
        "Discriminator = Model([par_inputs, gen_inputs], outputs = [output_class]) "
      ],
      "metadata": {
        "id": "xr5io6aLRg-P"
      },
      "execution_count": null,
      "outputs": []
    },
    {
      "cell_type": "code",
      "source": [
        "Discriminator.compile( loss='categorical_crossentropy', optimizer=Adam(0.0002, 0.5), metrics=['accuracy'])"
      ],
      "metadata": {
        "id": "kMTR_nGMk506"
      },
      "execution_count": null,
      "outputs": []
    },
    {
      "cell_type": "code",
      "source": [
        "Discriminator.trainable = False"
      ],
      "metadata": {
        "id": "Exoq66rxLt-Q"
      },
      "execution_count": null,
      "outputs": []
    },
    {
      "cell_type": "code",
      "source": [
        "fake_pred = Discriminator([x_train,z])"
      ],
      "metadata": {
        "id": "BQeViUhpLz3n"
      },
      "execution_count": null,
      "outputs": []
    },
    {
      "cell_type": "code",
      "source": [
        "combined_model_gen = Model(z, fake_pred)\n",
        "# Compile the combined model\n",
        "combined_model_gen.compile(loss='categorical_crossentropy', optimizer=Adam(0.0002, 0.5))"
      ],
      "metadata": {
        "id": "d8Q9Ep3pSsfa"
      },
      "execution_count": null,
      "outputs": []
    },
    {
      "cell_type": "code",
      "source": [
        "batch_size = x_train.shape[0]\n",
        "epochs = 30000\n",
        "sample_period = 200 # every `sample_period` steps generate and save some data\"\n",
        "# Create batch labels to use when calling train_on_batch\n",
        "\n",
        "# Store the losses\n",
        "d_losses = []\n",
        "g_losses = []\n",
        "ones= np.ones(batch_size)\n",
        "zeros= np.zeros(batch_size)\n"
      ],
      "metadata": {
        "id": "n5Q092cEE38p"
      },
      "execution_count": null,
      "outputs": []
    },
    {
      "cell_type": "code",
      "source": [
        "  # Generate fake images\n",
        "noise = np.random.randn(batch_size,x_train.shape[1], lat)\n",
        "fake_seq = GenEncoder_model.predict(noise)"
      ],
      "metadata": {
        "id": "rgYXKu2dGFia"
      },
      "execution_count": null,
      "outputs": []
    },
    {
      "cell_type": "code",
      "source": [
        "d_loss_real, d_acc_real = Discriminator.fit([x_train,noise], ones)\n"
      ],
      "metadata": {
        "id": "1K4DNyY-HGFu"
      },
      "execution_count": null,
      "outputs": []
    },
    {
      "cell_type": "code",
      "source": [
        "d_loss_fake, d_acc_fake = Discriminator.fit([fake_seq,noise], zeros)"
      ],
      "metadata": {
        "id": "erETaGL_HIOq"
      },
      "execution_count": null,
      "outputs": []
    },
    {
      "cell_type": "code",
      "source": [
        "\n",
        "def sample_seq(epoch):\n",
        "  rows, cols = 1,1276\n",
        "  noise = np.random.randn(rows * cols)\n",
        "  seq = GenEncoder_model.predict(noise)\n",
        "\n",
        "  # Rescale images 0 - 1\n",
        "  newseq = scaler.fit_transform(seq)\n",
        "  print(seq)\n",
        "### Train the GAN\n",
        "# Main training loop\n",
        "for epoch in range(epochs):\n",
        "  ###########################\n",
        "  ### Train discriminator ###\n",
        "  ###########################\n",
        "  \n",
        "  # Select a random batch of images\n",
        "  idx = np.random.randint(0, x_train.shape[0], batch_size)\n",
        "  real_seq = x_train[idx]\n",
        "  \n",
        "  # Generate fake images\n",
        "  noise = np.random.randn(batch_size,x_train.shape[1], lat)\n",
        "  fake_seq = GenEncoder_model.predict(noise)\n",
        "  \n",
        "  # Train the discriminator\n",
        "  # both loss and accuracy are returned\n",
        "  d_loss_real, d_acc_real = Discriminator.train_on_batch(real_seq, ones)\n",
        "  d_loss_fake, d_acc_fake = Discriminator.train_on_batch([fake_seq,z], zeros)\n",
        "  d_loss = 0.5 * (d_loss_real + d_loss_fake)\n",
        "  d_acc  = 0.5 * (d_acc_real + d_acc_fake)\n",
        "  \n",
        "  \n",
        "  #######################\n",
        "  ### Train generator ###\n",
        "  #######################\n",
        "  \n",
        "  noise = np.random.randn(batch_size, lat)\n",
        "  g_loss = combined_model_gen.train_on_batch(noise, ones)\n",
        "  \n",
        "  # do it again!\n",
        "  noise = np.random.randn(batch_size, lat)\n",
        "  g_loss = combined_model_gen.train_on_batch(noise, ones)\n",
        "  \n",
        "  # Save the losses\n",
        "  d_losses.append(d_loss)\n",
        "  g_losses.append(g_loss)\n",
        "  \n",
        "  if epoch % 100 == 0:\n",
        "    print(f\"epoch: {epoch+1}/{epochs}, d_loss: {d_loss:.2f}, \\\n",
        "      d_acc: {d_acc:.2f}, g_loss: {g_loss:.2f}\")\n",
        "  \n",
        "  if epoch % sample_period == 0:\n",
        "    sample_seq(epoch)"
      ],
      "metadata": {
        "id": "n_14UQXH-dOt"
      },
      "execution_count": null,
      "outputs": []
    },
    {
      "cell_type": "code",
      "source": [
        ""
      ],
      "metadata": {
        "id": "XV5kSqvwE8MK"
      },
      "execution_count": null,
      "outputs": []
    },
    {
      "cell_type": "code",
      "source": [
        ""
      ],
      "metadata": {
        "id": "pCvrNvUIRZSo"
      },
      "execution_count": null,
      "outputs": []
    }
  ],
  "metadata": {
    "colab": {
      "collapsed_sections": [],
      "name": "MutaGan.ipynb",
      "provenance": []
    },
    "kernelspec": {
      "display_name": "Python 3",
      "name": "python3"
    },
    "language_info": {
      "name": "python"
    }
  },
  "nbformat": 4,
  "nbformat_minor": 0
}